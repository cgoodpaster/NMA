{
  "nbformat": 4,
  "nbformat_minor": 0,
  "metadata": {
    "colab": {
      "name": "Clean Cluster Buster Code.ipynb",
      "provenance": [],
      "authorship_tag": "ABX9TyOn9WdfRPpPDOfcBXEyqTyn",
      "include_colab_link": true
    },
    "kernelspec": {
      "name": "python3",
      "display_name": "Python 3"
    },
    "language_info": {
      "name": "python"
    }
  },
  "cells": [
    {
      "cell_type": "markdown",
      "metadata": {
        "id": "view-in-github",
        "colab_type": "text"
      },
      "source": [
        "<a href=\"https://colab.research.google.com/github/cgoodpaster/NMA/blob/main/Clean_Cluster_Buster_Code.ipynb\" target=\"_parent\"><img src=\"https://colab.research.google.com/assets/colab-badge.svg\" alt=\"Open In Colab\"/></a>"
      ]
    },
    {
      "cell_type": "markdown",
      "source": [
        "##House-keeping\n"
      ],
      "metadata": {
        "id": "ODFu8dPNVjcj"
      }
    },
    {
      "cell_type": "code",
      "execution_count": 1,
      "metadata": {
        "id": "PppqCKX0TbmW"
      },
      "outputs": [],
      "source": [
        "import numpy as np\n",
        "import matplotlib.pyplot as plt\n",
        "from scipy.stats import zscore\n",
        "from sklearn.decomposition import PCA\n",
        "import pickle\n",
        "import os"
      ]
    },
    {
      "cell_type": "code",
      "source": [
        "from google.colab import drive\n",
        "drive.mount(\"/content/drive\")"
      ],
      "metadata": {
        "colab": {
          "base_uri": "https://localhost:8080/"
        },
        "id": "XkeBWK6tTjWl",
        "outputId": "18b351a0-db4d-49fb-c74e-1e64cbc56894"
      },
      "execution_count": 2,
      "outputs": [
        {
          "output_type": "stream",
          "name": "stdout",
          "text": [
            "Mounted at /content/drive\n"
          ]
        }
      ]
    },
    {
      "cell_type": "markdown",
      "source": [
        "## Downloads all Needed Files from Drive"
      ],
      "metadata": {
        "id": "xhAKfwmsVLz9"
      }
    },
    {
      "cell_type": "code",
      "source": [
        "%%capture\n",
        "!pip install gdown\n",
        "\n",
        "dest_folder = '/content/drive/MyDrive/HCP_steinmetz/'\n",
        "if not os.path.exists(dest_folder):\n",
        "  os.makedirs(dest_folder)  # create folder if it does not exist\n",
        "\n",
        "os.chdir(dest_folder)\n",
        "\n",
        "\n",
        "!gdown '1296ESQEAYK7dSiwX5szspI635eQu4uNt' --remaining-ok \n",
        "\n",
        "with open(\"/content/drive/MyDrive/HCP_steinmetz/all_firing_rate.pickle\", \"rb\") as file:\n",
        "    all_firing_rate = pickle.load(file)\n",
        "#The file has all the firing rates, for all the mouse, for all the sessions, for all the neurons. You can plot the fire rate for one neuron: \n",
        "\n",
        "!gdown '1zwsRy9Tlb0L1jOyL8Uqm5O_C8NnjS3Qo' --remaining-ok\n",
        "with open(\"/content/drive/MyDrive/HCP_steinmetz/alldat_dict.pickle\", \"rb\") as file:\n",
        "    alldat_dict = pickle.load(file)"
      ],
      "metadata": {
        "id": "P28Lj7hGTl9x"
      },
      "execution_count": 3,
      "outputs": []
    },
    {
      "cell_type": "markdown",
      "source": [
        "##Calculate the mean firing rate for each neuron (in all sessions) for correct and incorrect Trials"
      ],
      "metadata": {
        "id": "Sjr9YTeEVVhP"
      }
    },
    {
      "cell_type": "code",
      "source": [
        "all_firing_rate_corr = {}\n",
        "all_firing_rate_incorr = {}\n",
        "\n",
        "\n",
        "for mouse in all_firing_rate.keys():\n",
        "  all_firing_rate_corr[mouse] = {}\n",
        "  all_firing_rate_incorr[mouse] = {}\n",
        "  for ses in range(len(alldat_dict[mouse])):\n",
        "    #initialize np array\n",
        "    # all_firing_rate_corr[mouse][ses] = np.zeros((all_firing_rate[mouse][ses].shape[0], np.where(alldat_dict[mouse][ses]['feedback_type'] == 1.0)[0].shape[0]  ))\n",
        "    # all_firing_rate_incorr[mouse][ses] = np.zeros((all_firing_rate[mouse][ses].shape[0], np.where(alldat_dict[mouse][ses]['feedback_type'] == -1.0)[0].shape[0]  ))\n",
        "\n",
        "    # Storing outuput\n",
        "    all_firing_rate_corr[mouse][ses]  = np.mean(all_firing_rate[mouse][ses][:,np.where(alldat_dict[mouse][ses]['feedback_type'] == 1.0)[0]], axis=1) #correct\n",
        "    all_firing_rate_incorr[mouse][ses] = np.mean(all_firing_rate[mouse][ses][:,np.where(alldat_dict[mouse][ses]['feedback_type'] == -1.0)[0]], axis=1) #incorrect"
      ],
      "metadata": {
        "id": "WmffY9jMTrjB"
      },
      "execution_count": 5,
      "outputs": []
    },
    {
      "cell_type": "markdown",
      "source": [
        "##Combines all neurons into one array"
      ],
      "metadata": {
        "id": "-P63SQjhVcoc"
      }
    },
    {
      "cell_type": "code",
      "source": [
        "total_neurons_corr = 0\n",
        "total_neurons_in = 0\n",
        "\n",
        "total_neurons_corr = []\n",
        "\n",
        "for mouse in all_firing_rate_corr.keys():\n",
        "  for ses in range(len(alldat_dict[mouse])):\n",
        "    total_neurons_corr = np.append(total_neurons_corr, all_firing_rate_corr[mouse][ses])\n",
        "    \n",
        "\n",
        "    #print(total_neurons_corr.shape)\n",
        "\n",
        "\n",
        "total_neurons_in = []\n",
        "for mouse in all_firing_rate_incorr.keys():\n",
        "  for ses in range(len(alldat_dict[mouse])):\n",
        "    total_neurons_in = np.append(total_neurons_in, all_firing_rate_incorr[mouse][ses])\n",
        "    #print(total_neurons_in.shape)\n",
        "\n",
        "print(total_neurons_corr.shape,total_neurons_in.shape)\n",
        "\n",
        "clustering_x = np.vstack((total_neurons_corr, total_neurons_in)).T\n"
      ],
      "metadata": {
        "colab": {
          "base_uri": "https://localhost:8080/"
        },
        "id": "CiN31m-fTvLR",
        "outputId": "22c29b3e-ca13-4155-b7dd-77537d148c07"
      },
      "execution_count": 6,
      "outputs": [
        {
          "output_type": "stream",
          "name": "stdout",
          "text": [
            "(33958,) (33958,)\n"
          ]
        }
      ]
    },
    {
      "cell_type": "markdown",
      "source": [
        "## Dendrogram Creation"
      ],
      "metadata": {
        "id": "9LWRFD5QVgLf"
      }
    },
    {
      "cell_type": "code",
      "source": [
        "##Clustering Analysis\n",
        "import scipy.cluster.hierarchy as sch\n",
        "dendrogram = sch.dendrogram(sch.linkage(clustering_x, method = 'ward'))\n",
        "plt.title('Dendrogram')\n",
        "plt.xlabel('Customers')\n",
        "plt.ylabel('Euclidean distances')\n",
        "plt.show()"
      ],
      "metadata": {
        "id": "EohCYnV3TypK"
      },
      "execution_count": null,
      "outputs": []
    }
  ]
}